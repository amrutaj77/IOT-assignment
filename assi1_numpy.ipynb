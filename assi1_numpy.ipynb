{
 "cells": [
  {
   "cell_type": "code",
   "execution_count": 1,
   "id": "0031f5eb-9db6-4e93-89d2-1a4bf8691a74",
   "metadata": {},
   "outputs": [
    {
     "name": "stdout",
     "output_type": "stream",
     "text": [
      "Akshada\n"
     ]
    }
   ],
   "source": [
    "print(\"Akshada\")"
   ]
  },
  {
   "cell_type": "code",
   "execution_count": 2,
   "id": "95ecadc2-39b0-4c95-aa40-5aa408e9531d",
   "metadata": {},
   "outputs": [],
   "source": [
    "import numpy as np"
   ]
  },
  {
   "cell_type": "code",
   "execution_count": 4,
   "id": "0ea94946-eb96-4665-b1dd-f11f2cc9816b",
   "metadata": {},
   "outputs": [],
   "source": [
    "def function1():\n",
    "    arr = np.array([1,7,13,105])\n",
    "    print(arr)\n",
    "    print(f\"NBYTES = {arr.nbytes}\")"
   ]
  },
  {
   "cell_type": "code",
   "execution_count": 5,
   "id": "c165a3f9-5bb1-4f8a-b800-ed1676c85835",
   "metadata": {},
   "outputs": [
    {
     "name": "stdout",
     "output_type": "stream",
     "text": [
      "[  1   7  13 105]\n",
      "NBYTES = 32\n"
     ]
    }
   ],
   "source": [
    "function1()"
   ]
  },
  {
   "cell_type": "code",
   "execution_count": 8,
   "id": "1589b3e9-e018-47fd-afff-2c0335847063",
   "metadata": {},
   "outputs": [
    {
     "name": "stdout",
     "output_type": "stream",
     "text": [
      "1 is less than 5\n",
      "5 is less than 9\n",
      "9 is greater than 5\n"
     ]
    }
   ],
   "source": [
    "arr1 = np.array([9,5,1]) \n",
    "arr2 = np.array([5,9,5]) \n",
    "i= arr1.size - 1\n",
    "while i>=0:\n",
    "    if arr1[i]>arr2[i]:\n",
    "        print(f\"{arr1[i]} is greater than {arr2[i]}\")\n",
    "    elif arr1[i]<arr2[i]:\n",
    "        print(f\"{arr1[i]} is less than {arr2[i]}\")\n",
    "    elif arr1[i]>=arr2[i]:\n",
    "        print(f\"{arr1[i]} is greater than equal to {arr2[i]}\")\n",
    "    elif arr1[i]<=arr2[i]:\n",
    "        print(f\"{arr1[i]} is less than equal to {arr2[i]}\")\n",
    "    i = i - 1"
   ]
  },
  {
   "cell_type": "code",
   "execution_count": 15,
   "id": "86eabaff-3b39-4e61-9e1e-7e6ce79228f0",
   "metadata": {},
   "outputs": [
    {
     "name": "stdout",
     "output_type": "stream",
     "text": [
      "[0. 0. 0. 0. 0. 0. 0. 0. 0. 0.]\n",
      "[1. 1. 1. 1. 1. 1. 1. 1. 1. 1.]\n",
      "[5. 5. 5. 5. 5. 5. 5. 5. 5. 5.]\n",
      "[10. 10. 10. 10. 10. 10. 10. 10. 10. 10.]\n",
      "[20. 20. 20. 20. 20. 20. 20. 20. 20. 20.]\n",
      "[50. 50. 50. 50. 50. 50. 50. 50. 50. 50.]\n"
     ]
    }
   ],
   "source": [
    "arr = np.zeros(10)\n",
    "print(arr)\n",
    "arr1 = np.ones(10)\n",
    "print(arr1)\n",
    "print(arr1*5)\n",
    "print(arr1*10)\n",
    "print(arr1*20)\n",
    "print(arr1*50)"
   ]
  },
  {
   "cell_type": "code",
   "execution_count": 16,
   "id": "b26907b7-210e-4885-a433-ebbe1dad0c6b",
   "metadata": {},
   "outputs": [
    {
     "name": "stdout",
     "output_type": "stream",
     "text": [
      "[30 31 32 33 34 35 36 37 38 39 40 41 42 43 44 45 46 47 48 49 50 51 52 53\n",
      " 54 55 56 57 58 59 60 61 62 63 64 65 66 67 68 69]\n"
     ]
    }
   ],
   "source": [
    "arr1 = np.arange(30,70)\n",
    "print(arr1)"
   ]
  },
  {
   "cell_type": "code",
   "execution_count": 17,
   "id": "9c462523-78e6-4d0c-800e-e50589497656",
   "metadata": {},
   "outputs": [
    {
     "name": "stdout",
     "output_type": "stream",
     "text": [
      "[50 51 52 53 54 55 56 57 58 59 60 61 62 63 64 65 66 67 68 69 70 71 72 73\n",
      " 74 75 76 77 78 79 80 81 82 83 84 85 86 87 88 89 90 91 92 93 94]\n"
     ]
    }
   ],
   "source": [
    "arr1 = np.arange(50,95)\n",
    "print(arr1)"
   ]
  },
  {
   "cell_type": "code",
   "execution_count": 18,
   "id": "ed8d6fa4-e2c1-43aa-958a-8857d768f1b8",
   "metadata": {},
   "outputs": [
    {
     "name": "stdout",
     "output_type": "stream",
     "text": [
      "[20 22 24 26 28 30 32 34 36 38 40 42 44 46 48 50 52 54 56 58 60 62 64 66\n",
      " 68 70 72 74 76 78]\n"
     ]
    }
   ],
   "source": [
    "arr1 = np.arange(20,80,2)\n",
    "print(arr1)"
   ]
  },
  {
   "cell_type": "code",
   "execution_count": 20,
   "id": "40b9a762-4515-467b-8a6a-9bb62e89ded9",
   "metadata": {},
   "outputs": [
    {
     "name": "stdout",
     "output_type": "stream",
     "text": [
      "[21 23 25 27 29 31 33 35 37 39 41 43 45 47 49 51 53 55 57 59 61 63 65 67\n",
      " 69 71 73 75 77 79]\n"
     ]
    }
   ],
   "source": [
    "arr1 = np.arange(21,80,2)\n",
    "print(arr1)"
   ]
  },
  {
   "cell_type": "code",
   "execution_count": 23,
   "id": "e66694a3-434d-4e5f-8e64-8768cd570f85",
   "metadata": {},
   "outputs": [
    {
     "name": "stdout",
     "output_type": "stream",
     "text": [
      "[32 15 23 34 25 14 11 39 24 22 13 21 19 20 15]\n"
     ]
    }
   ],
   "source": [
    "n1 = np.random.randint(10,40,15) # any four random numbers from 10 to 40\n",
    "print(n1)"
   ]
  },
  {
   "cell_type": "code",
   "execution_count": 25,
   "id": "fff2d985-318c-4b2c-a28e-a4518914f3d2",
   "metadata": {},
   "outputs": [
    {
     "name": "stdout",
     "output_type": "stream",
     "text": [
      "[47 41 45 34 35 43 36 45 48 48]\n"
     ]
    }
   ],
   "source": [
    "n1 = np.random.randint(30,50,10) # any four random numbers from 30 to 50\n",
    "print(n1)"
   ]
  },
  {
   "cell_type": "code",
   "execution_count": 26,
   "id": "bd03cb7b-713d-4ece-a273-9a163bc12a9a",
   "metadata": {},
   "outputs": [
    {
     "name": "stdout",
     "output_type": "stream",
     "text": [
      "[73 74 69 85 68 83 66 89 56 71 79 83 72 74 50 50 51 89 57 86]\n"
     ]
    }
   ],
   "source": [
    "n1 = np.random.randint(50,90,20) # any four random numbers from 50 to 90\n",
    "print(n1)"
   ]
  },
  {
   "cell_type": "code",
   "execution_count": 28,
   "id": "d39e9f4f-0ac9-4eca-be62-5348968b9b66",
   "metadata": {},
   "outputs": [
    {
     "name": "stdout",
     "output_type": "stream",
     "text": [
      "N1 = [9 8 7 6]\n",
      "N2 = [6 5 4 3]\n",
      "[15 13 11  9]\n",
      "[3 3 3 3]\n",
      "[54 40 28 18]\n",
      "[1 1 1 2]\n"
     ]
    }
   ],
   "source": [
    "n1 = np.array([9,8,7,6])\n",
    "n2 = np.array([6,5,4,3])\n",
    "print(f\"N1 = {n1}\")\n",
    "print(f\"N2 = {n2}\")\n",
    "print(n1+n2)\n",
    "print(n1-n2)\n",
    "print(n1*n2)\n",
    "a = np.array(n1/n2,dtype=np.int16)\n",
    "print(a)"
   ]
  },
  {
   "cell_type": "code",
   "execution_count": 34,
   "id": "380c1a14-b694-4f3a-9dc3-d4d6ec3621d6",
   "metadata": {},
   "outputs": [
    {
     "name": "stdout",
     "output_type": "stream",
     "text": [
      "[[10 11 12 13]\n",
      " [14 15 16 17]\n",
      " [18 19 20 21]]\n"
     ]
    }
   ],
   "source": [
    "m = np.arange(10, 22).reshape((3, 4))\n",
    "print(m)"
   ]
  },
  {
   "cell_type": "code",
   "execution_count": 35,
   "id": "fddbec24-eaa4-438b-a8c2-45a79478818c",
   "metadata": {},
   "outputs": [],
   "source": [
    "x = np.eye(3)\n"
   ]
  },
  {
   "cell_type": "code",
   "execution_count": 36,
   "id": "32f1e448-73f3-4846-aa48-daef626d17d1",
   "metadata": {},
   "outputs": [
    {
     "name": "stdout",
     "output_type": "stream",
     "text": [
      "[[1. 0. 0.]\n",
      " [0. 1. 0.]\n",
      " [0. 0. 1.]]\n"
     ]
    }
   ],
   "source": [
    "print(x)"
   ]
  },
  {
   "cell_type": "code",
   "execution_count": 37,
   "id": "6fcdff8b-149e-4ca5-a2ff-4bb6ad9d0b30",
   "metadata": {},
   "outputs": [],
   "source": [
    "x = np.eye(5)"
   ]
  },
  {
   "cell_type": "code",
   "execution_count": 38,
   "id": "8852d5b4-689b-46dc-b71a-4c49f049656b",
   "metadata": {},
   "outputs": [
    {
     "name": "stdout",
     "output_type": "stream",
     "text": [
      "[[1. 0. 0. 0. 0.]\n",
      " [0. 1. 0. 0. 0.]\n",
      " [0. 0. 1. 0. 0.]\n",
      " [0. 0. 0. 1. 0.]\n",
      " [0. 0. 0. 0. 1.]]\n"
     ]
    }
   ],
   "source": [
    "print(x)"
   ]
  },
  {
   "cell_type": "code",
   "execution_count": 39,
   "id": "cbc730ef-4981-49f5-8e49-7b327e11be25",
   "metadata": {},
   "outputs": [],
   "source": [
    "a = np.random.random((3, 3, 3))"
   ]
  },
  {
   "cell_type": "code",
   "execution_count": 40,
   "id": "6f1cd2d3-8cc8-4bfd-8fc4-8f7995ea6197",
   "metadata": {},
   "outputs": [
    {
     "name": "stdout",
     "output_type": "stream",
     "text": [
      "[[[0.91539199 0.96763842 0.30359176]\n",
      "  [0.01712778 0.09983787 0.68267572]\n",
      "  [0.82654204 0.33863882 0.28669614]]\n",
      "\n",
      " [[0.40022175 0.36102944 0.30510201]\n",
      "  [0.38942141 0.83708305 0.92612848]\n",
      "  [0.44614025 0.68921486 0.47165197]]\n",
      "\n",
      " [[0.57126321 0.97710275 0.59418593]\n",
      "  [0.64581753 0.70016433 0.69213855]\n",
      "  [0.85457653 0.86409654 0.05164895]]]\n"
     ]
    }
   ],
   "source": [
    "print(a)"
   ]
  },
  {
   "cell_type": "code",
   "execution_count": 41,
   "id": "e1c410ed-dbad-4783-a149-1876957ac57c",
   "metadata": {},
   "outputs": [],
   "source": [
    "b = np.random.random((2, 3, 4))"
   ]
  },
  {
   "cell_type": "code",
   "execution_count": 42,
   "id": "28dc1726-fae2-482f-a138-ceeb54ae219e",
   "metadata": {},
   "outputs": [
    {
     "name": "stdout",
     "output_type": "stream",
     "text": [
      "[[[0.62885221 0.61464174 0.04330766 0.67100825]\n",
      "  [0.62588116 0.94089712 0.7495799  0.14976635]\n",
      "  [0.7677826  0.35386515 0.3815712  0.37307759]]\n",
      "\n",
      " [[0.84492476 0.30758699 0.25130334 0.50673518]\n",
      "  [0.56986719 0.73629344 0.1063321  0.20449026]\n",
      "  [0.43832751 0.86593841 0.33106094 0.49410238]]]\n"
     ]
    }
   ],
   "source": [
    "print(b)"
   ]
  },
  {
   "cell_type": "code",
   "execution_count": 43,
   "id": "f093106c-9b53-47b5-a040-e11cd1041d11",
   "metadata": {},
   "outputs": [],
   "source": [
    "l = [2.5, 1.2, 10, 6.3]"
   ]
  },
  {
   "cell_type": "code",
   "execution_count": 44,
   "id": "1ead55b2-d5b8-4c5f-9663-d61d47387a0d",
   "metadata": {},
   "outputs": [
    {
     "name": "stdout",
     "output_type": "stream",
     "text": [
      "original list :  [2.5, 1.2, 10, 6.3]\n"
     ]
    }
   ],
   "source": [
    "print(\"original list : \", l)"
   ]
  },
  {
   "cell_type": "code",
   "execution_count": 45,
   "id": "d0a04176-2905-427a-8d53-d68247018410",
   "metadata": {},
   "outputs": [],
   "source": [
    "a = np.array(l)\n"
   ]
  },
  {
   "cell_type": "code",
   "execution_count": 46,
   "id": "0b1926ab-c998-4b67-bfbc-6bcb8740f653",
   "metadata": {},
   "outputs": [
    {
     "name": "stdout",
     "output_type": "stream",
     "text": [
      "one-dimesionaal array :  [ 2.5  1.2 10.   6.3]\n"
     ]
    }
   ],
   "source": [
    "print(\"one-dimesionaal array : \" ,a)"
   ]
  },
  {
   "cell_type": "code",
   "execution_count": 47,
   "id": "0224bfd9-b0aa-43af-94c3-dd9282fba2b9",
   "metadata": {},
   "outputs": [],
   "source": [
    "x = np.arange(2, 11).reshape(3, 3)"
   ]
  },
  {
   "cell_type": "code",
   "execution_count": 48,
   "id": "05da5ea1-3ef4-4699-a614-ef291d47f7e0",
   "metadata": {},
   "outputs": [
    {
     "name": "stdout",
     "output_type": "stream",
     "text": [
      "[[ 2  3  4]\n",
      " [ 5  6  7]\n",
      " [ 8  9 10]]\n"
     ]
    }
   ],
   "source": [
    "print(x)"
   ]
  },
  {
   "cell_type": "code",
   "execution_count": 49,
   "id": "0224897a-1b12-4530-b878-500ac1a68d9c",
   "metadata": {},
   "outputs": [
    {
     "name": "stdout",
     "output_type": "stream",
     "text": [
      "[[ 2  3  4]\n",
      " [ 5  6  7]\n",
      " [ 8  9 10]]\n"
     ]
    }
   ],
   "source": [
    "print(x)"
   ]
  },
  {
   "cell_type": "code",
   "execution_count": 51,
   "id": "0be74fa8-ae83-43f7-aa0e-7c28038e3574",
   "metadata": {},
   "outputs": [],
   "source": [
    "a = np.arange(12, 38)"
   ]
  },
  {
   "cell_type": "code",
   "execution_count": 52,
   "id": "ca11d929-d037-4893-b4da-385d4da9edb7",
   "metadata": {},
   "outputs": [
    {
     "name": "stdout",
     "output_type": "stream",
     "text": [
      "[12 13 14 15 16 17 18 19 20 21 22 23 24 25 26 27 28 29 30 31 32 33 34 35\n",
      " 36 37]\n"
     ]
    }
   ],
   "source": [
    "print(a)"
   ]
  },
  {
   "cell_type": "code",
   "execution_count": 54,
   "id": "dc402cd4-5af2-4122-8d28-c4cfc540f19f",
   "metadata": {},
   "outputs": [],
   "source": [
    "x = np.arange(12, 38)"
   ]
  },
  {
   "cell_type": "code",
   "execution_count": 55,
   "id": "2ed34e56-8418-465c-9a13-86fae872e3fa",
   "metadata": {},
   "outputs": [
    {
     "name": "stdout",
     "output_type": "stream",
     "text": [
      "Original array \n",
      "[12 13 14 15 16 17 18 19 20 21 22 23 24 25 26 27 28 29 30 31 32 33 34 35\n",
      " 36 37]\n"
     ]
    }
   ],
   "source": [
    "print(\"Original array \")\n",
    "print(x)"
   ]
  },
  {
   "cell_type": "code",
   "execution_count": 56,
   "id": "ed72640c-a6aa-4bbe-95b6-1547198aa058",
   "metadata": {},
   "outputs": [
    {
     "name": "stdout",
     "output_type": "stream",
     "text": [
      "Reverse array:\n",
      "[37 36 35 34 33 32 31 30 29 28 27 26 25 24 23 22 21 20 19 18 17 16 15 14\n",
      " 13 12]\n"
     ]
    }
   ],
   "source": [
    "print(\"Reverse array:\")\n",
    "x = x[::-1]\n",
    "print(x) "
   ]
  },
  {
   "cell_type": "code",
   "execution_count": 57,
   "id": "51b74d91-a6e4-4b53-a5b1-ac4b4a88eedb",
   "metadata": {},
   "outputs": [
    {
     "name": "stdout",
     "output_type": "stream",
     "text": [
      "Original array\n",
      "[1, 2, 3, 4]\n"
     ]
    }
   ],
   "source": [
    "a = [1, 2, 3, 4]\n",
    "print(\"Original array\")\n",
    "print(a)"
   ]
  },
  {
   "cell_type": "code",
   "execution_count": 59,
   "id": "6416d346-8156-4943-a00c-d7f6018be537",
   "metadata": {},
   "outputs": [
    {
     "name": "stdout",
     "output_type": "stream",
     "text": [
      "Array converted to a float type:\n",
      "[1. 2. 3. 4.]\n"
     ]
    }
   ],
   "source": [
    "x = np.asfarray(a)\n",
    "print(\"Array converted to a float type:\")\n",
    "print(x)"
   ]
  },
  {
   "cell_type": "code",
   "execution_count": 60,
   "id": "3b1598c4-2370-48cb-a119-4d2e04bcc36b",
   "metadata": {},
   "outputs": [
    {
     "name": "stdout",
     "output_type": "stream",
     "text": [
      "Original array:\n",
      "[0 1 2 3 4 5 6]\n"
     ]
    }
   ],
   "source": [
    "x = np.arange(7)\n",
    "print(\"Original array:\")\n",
    "print(x)"
   ]
  },
  {
   "cell_type": "code",
   "execution_count": 61,
   "id": "adc4e084-38ae-4327-8945-92494b8217d0",
   "metadata": {},
   "outputs": [
    {
     "name": "stdout",
     "output_type": "stream",
     "text": [
      "Element-wise remainder of division:\n",
      "[0 1 2 3 4 0 1]\n"
     ]
    }
   ],
   "source": [
    "print(\"Element-wise remainder of division:\")\n",
    "print(np.remainder(x, 5)) "
   ]
  },
  {
   "cell_type": "code",
   "execution_count": 62,
   "id": "3ca4e4d9-eb15-4869-9911-39c47edb55b9",
   "metadata": {},
   "outputs": [
    {
     "name": "stdout",
     "output_type": "stream",
     "text": [
      "Numbers divisible by 3: [21 24 27 30 33 36 39 42 45 48]\n",
      "Element-wise remainder array: [0 0 0 0 0 0 0 0 0 0]\n"
     ]
    }
   ],
   "source": [
    "numbers = np.arange(20, 51)\n",
    "divisible_by_3 = numbers[numbers % 3 == 0]\n",
    "remainder_array = divisible_by_3 % 3\n",
    "print(\"Numbers divisible by 3:\", divisible_by_3)\n",
    "print(\"Element-wise remainder array:\", remainder_array)\n"
   ]
  },
  {
   "cell_type": "code",
   "execution_count": null,
   "id": "9ba228de-e511-459f-a892-723852bffc64",
   "metadata": {},
   "outputs": [],
   "source": []
  }
 ],
 "metadata": {
  "kernelspec": {
   "display_name": "Python 3 (ipykernel)",
   "language": "python",
   "name": "python3"
  },
  "language_info": {
   "codemirror_mode": {
    "name": "ipython",
    "version": 3
   },
   "file_extension": ".py",
   "mimetype": "text/x-python",
   "name": "python",
   "nbconvert_exporter": "python",
   "pygments_lexer": "ipython3",
   "version": "3.10.12"
  }
 },
 "nbformat": 4,
 "nbformat_minor": 5
}
